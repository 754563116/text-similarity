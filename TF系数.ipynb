{
 "cells": [
  {
   "cell_type": "code",
   "execution_count": 3,
   "metadata": {},
   "outputs": [
    {
     "name": "stdout",
     "output_type": "stream",
     "text": [
      "---------\n"
     ]
    },
    {
     "name": "stderr",
     "output_type": "stream",
     "text": [
      "d:\\ProgramData\\Anaconda3\\lib\\site-packages\\ipykernel_launcher.py:19: RuntimeWarning: invalid value encountered in true_divide\n"
     ]
    },
    {
     "name": "stdout",
     "output_type": "stream",
     "text": [
      "1.0\n",
      "('松本面板可以配什么品牌的超五类模块?? ', 'AMP的试试吧，还有普天的。')\n",
      "0.5163977794943223\n",
      "('装修用什么牌子的木地板好什么材质的好??? ', '柳德米拉你好\\r\\n木地板在家居中能够历久弥新，自然有它不可取代的特色。首先，木材质本身就有一种自然的气息，能够给予人温暖亲切的感受。其次，木地板在视觉上是硬朗的，但使用中会发现木地板的内在特性是柔和的，所以很多练功房都使用木地板，因为木材与人体的冲击、抗力都比其他材料柔和。第三，从使用的角度上说，木地板分量轻，又很有韧性。众所周知，大多数的木材都能浮在水上，这个特性就让木地板在运输、铺设时都相比其他地材方便，而且木地板的抗压力也很优异。同时，木材本身会“呼吸”———可以吸湿和蒸发，因而可维护环境湿度在人体感觉舒适的范围内。第四，优质的木地板使用年限也很长，记者在广州的一些老式洋房中见到那些铺设的木地板，经过那么多年后，一打腊便光亮如新\\r\\n实木地板中大自然和安信当属其中之佼佼者，而安信则以价廉又胜了一筹。而且正因为牌子大，所以，花色品种也多，挑选起来也更有余地。\\r\\n复合地板中：圣象、欧典、金鹰艾格、欧润、欧陆家等，都是不错的牌子，而每一款又有80—400不同的价位可供选择。你自己看在转转看看。\\r\\n')\n",
      "0.5143444998736398\n",
      "('吃什么东西可以补血??? ', '补血食物\\r\\n番茄、红枣、甘蔗、葡萄这些东西平日可以多吃些啊 ，有一定的预防作用的哦，但最多也就是有点点的缓解哦。贫血的话，光靠这些食物去补血，根本是行不通的，补血食物最多也就是起到辅助作用，要补血很有必要记住一些专业调理品。这是我的经验，我比较嗜好润之康【雪彦茶】专门给我们这样的贫血人群的哦，我喝了个把月就调好了也。润之尔康鳕岩?饨\\ue06f寡\\ue032氩蛊\\ue250岷显谝黄穑\\ue0e1\\ue264\\ue02a\\ue06f梗\\ue0cf痈\\ue2c5瓷喜寡\\ue002\\ue0d1愿纳破堆\\ue000⑶可斫√濉⒚廊菅\\ue264漳懿\\ue318\\ue319掳牍Ρ兜男Ч\\ue350\\ue0db\\ue380诓寡\\ue02fЧ\\ue362某ぞ贸中\\ue234Ｈ笾\\ue18d\\ue36c调ㄑ?馀浞胶侠恚\\ue0e1\\ue264\\ue02a\\ue06f梗\\ue0d4瘫菊\\ue43d础?\\n')\n",
      "---------\n",
      "0.9660917830792959\n",
      "('msn在教学工作中的作用 ', '可以传递信息啊   记得给好评哦 就差您这一个好评了哦 我在做任务 点左下角的好评  万分感谢')\n",
      "0.49690399499995325\n",
      "('中国人少用MSN吗?MSN安全吗? ', '相对QQ要少，不过安全性要比QQ高，针对msn的黑客软件（中文版）比qq少太多')\n",
      "0.4654746681256314\n",
      "('在法院工作的书记员是不是正式工?想知道在临沂中级人民法院工作的书 ', '一、临时工是不允许做书记员的。\\r\\n二、“书记员”本身就是职务头衔。临时工不能有这职务。')\n",
      "---------\n",
      "1.0\n",
      "('万能的微博，深圳有维修饰品的地方么？断了 ', '周大福、金饰品都可以\\n深圳龙岗区龙东鸿基路6号义乌小商品批发城一楼B1207\\n观前街邵磨针巷88号伊人坊 龙岗中心城吉祥中路卖珠宝的地方都可以维修的。珠宝世界\\n深圳市华强北商业街2006号华联发大厦1-2层\\n电话： 0755-83999595/83998283\\n营业时间：10:00—22:00东门步行街！我就修过。如果我的回答对你有帮助，请点击“有用”，谢谢！可以去水贝，或者嘉汇国际黄金珠宝钟表城里维修。')\n",
      "0.48433244995346125\n",
      "('物流仓储属于什么性质的用地？有的地方是工业用地，有的地方又算成商 ', '你好！\\r\\n\\r\\n物流园算做是商业用地的！\\r\\n\\r\\n知识很多地方地块已经化为工业用地了，但是在这儿建了一个物流仓储库房，所以只能算作是工业用地！')\n",
      "0.47304991679126607\n",
      "('万能的微博求解释，啥问题？ ', '对设备使用“恢复”功能是标准故障诊断程序的一部分。恢复设备将删除设备中的所有数据，包括歌曲、视频、录、照片、日历信息及其他任何数据。所有设置都将恢复到其出厂状态。每当您恢复设备时，Apple 都强烈建议您在恢复之前执行同步，以便备份自上次同步以来的所有更改。如果您设备上有租借的影片，请在恢复前参阅“美国的 iTunes Store 影片租借使用权限”。请使用下列步骤恢复设备：在尝试进行更新之前，确保安装并运行最新版本的 iTunes。将设备连接到电脑。当 iPhone、iPad 或 iPod touch 显示在 iTunes 中的“设备”下时，将其选中。选择“摘要”标签。选择“恢复”选项。当系统提示您在恢复之前备份设置时，选择“备份”选项（如下图所示）。如果您刚刚备份过设备，则无需重新创建备份。在 iTunes 提示时选择“恢复”选项（只要备份过设备，就不必担心恢复电话的问题）。恢复过程完成后，设备将重新启动，启动时会显示 Apple 标志：仅 iPhone：仅就 iPhone 而言，恢复之后，iPhone 将显示“连接 iTunes”屏幕。保持设备连接，直到“连接 iTunes”屏幕消失或看到“iPhone 已被激活”。如果 iTunes 未连接至 Internet，则无法完成该步骤。')\n",
      "---------\n",
      "TF系数相似度运行时间： 152.47466667493185\n"
     ]
    }
   ],
   "source": [
    "from time import *\n",
    "import json\n",
    "\n",
    "from sklearn.feature_extraction.text import CountVectorizer\n",
    "import numpy as np\n",
    "from scipy.linalg import norm\n",
    "\n",
    "def tf_similarity(s1, s2):\n",
    "    def add_space(s):\n",
    "        return ' '.join(list(s))\n",
    "    \n",
    "    # 将字中间加入空格\n",
    "    s1, s2 = add_space(s1), add_space(s2)\n",
    "    # 转化为TF矩阵\n",
    "    cv = CountVectorizer(tokenizer=lambda s: s.split())\n",
    "    corpus = [s1, s2]\n",
    "    vectors = cv.fit_transform(corpus).toarray()\n",
    "    # 计算TF系数\n",
    "    return np.dot(vectors[0], vectors[1]) / (norm(vectors[0]) * norm(vectors[1]))\n",
    "def response(file_path,userinput):\n",
    "    f = open(file_path,'r', encoding='utf-8')\n",
    "    sims =  []\n",
    "    sims_dicts = {}\n",
    "    for line in f.readlines()[:200000]:\n",
    "        line = json.loads(line)\n",
    "        question = line['title']\n",
    "        answer = line['answer']\n",
    "        sim = tf_similarity(question, userinput)\n",
    "        sims.append(sim)\n",
    "        sims_dicts[sim] = (question,answer)\n",
    "    sims.sort(reverse=True)\n",
    "    #print(sims)\n",
    "    top_n = 3\n",
    "    for i in range(top_n):\n",
    "        print (sims[i])\n",
    "        print(sims_dicts[sims[i]])\n",
    "begin_time = time()   \n",
    "\n",
    "userinput1 = '松本面板可以配什么品牌的超五类模块??'\n",
    "userinput2 = 'msn在教学工作中的作用 ?'\n",
    "userinput3 = '万能的微博，深圳有维修饰品的地方么？断了 '\n",
    "file_path = 'E:/litao/Chatbots/data/baike_qa/baike_qa_train.json'\n",
    "print('---------') \n",
    "response(file_path,userinput1)\n",
    "print('---------') \n",
    "response(file_path,userinput2)\n",
    "print('---------') \n",
    "response(file_path,userinput3)\n",
    "print('---------') \n",
    "end_time = time()\n",
    "run_time = (end_time-begin_time)/3\n",
    "print ('TF系数相似度运行时间：',run_time) \n"
   ]
  },
  {
   "cell_type": "code",
   "execution_count": 10,
   "metadata": {},
   "outputs": [
    {
     "name": "stdout",
     "output_type": "stream",
     "text": [
      "0.5000000000000001\n"
     ]
    }
   ],
   "source": [
    "s1 = '户外婚礼突然下雨怎么办？'\n",
    "s2 = '手冻下来了怎么办？？ '\n",
    "sim = tf_similarity(s1, s2)\n",
    "print(sim)\n"
   ]
  }
 ],
 "metadata": {
  "kernelspec": {
   "display_name": "Python 3",
   "language": "python",
   "name": "python3"
  },
  "language_info": {
   "codemirror_mode": {
    "name": "ipython",
    "version": 3
   },
   "file_extension": ".py",
   "mimetype": "text/x-python",
   "name": "python",
   "nbconvert_exporter": "python",
   "pygments_lexer": "ipython3",
   "version": "3.6.4"
  }
 },
 "nbformat": 4,
 "nbformat_minor": 2
}
