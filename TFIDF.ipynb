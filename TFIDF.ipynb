{
 "cells": [
  {
   "cell_type": "code",
   "execution_count": 6,
   "metadata": {},
   "outputs": [],
   "source": [
    "from sklearn.feature_extraction.text import TfidfVectorizer\n",
    "import numpy as np\n",
    "from scipy.linalg import norm\n",
    "import jieba\n",
    "\n",
    "\n",
    "def tfidf_similarity(s1, s2):\n",
    "    def segment(s):\n",
    "        s = jieba.lcut(s)\n",
    "      #  print(' '.join(list(s)))\n",
    "        return ' '.join(list(s))\n",
    "    \n",
    "    # 将字中间加入空格\n",
    "    s1, s2 = segment(s1), segment(s2)\n",
    "    # 转化为TFIDF矩阵\n",
    "    cv = TfidfVectorizer(tokenizer=lambda s: s.split())\n",
    "    corpus = [s1, s2]\n",
    "    vectors = cv.fit_transform(corpus).toarray()\n",
    "    # 计算TF系数\n",
    "    return np.dot(vectors[0], vectors[1]) / (norm(vectors[0]) * norm(vectors[1]))"
   ]
  },
  {
   "cell_type": "code",
   "execution_count": 7,
   "metadata": {},
   "outputs": [
    {
     "name": "stdout",
     "output_type": "stream",
     "text": [
      "0.5031026124151314\n"
     ]
    }
   ],
   "source": [
    "s1 = '下雨怎么办？'\n",
    "s2 = '下雨天怎么办？ '\n",
    "print(tfidf_similarity(s1, s2))"
   ]
  },
  {
   "cell_type": "code",
   "execution_count": 7,
   "metadata": {},
   "outputs": [
    {
     "name": "stdout",
     "output_type": "stream",
     "text": [
      "1.0\n",
      "('松本面板可以配什么品牌的超五类模块?? ', 'AMP的试试吧，还有普天的。')\n",
      "0.3346164912648123\n",
      "('异地恋真得就那摸难吗???我该怎么来处理我这段异地的恋情??大家? ', '曾经的不代表现在的,你的这种感觉我也曾经历过,我很了解你现在的心情,百般的无助,我只想这样给你说,一切顺其自然,人都会随着时间,环境在变化,曾经的了解信任,不代表现在的一切,爱有几分,思念就有几分,而当你的爱与思念共同出现时,心就是觉得越独单越想信念过去,越想就会越觉得失洛，猜异，越能感觉到一个词：＂娈化＂，感情是一种双方共同的主动，不是一个人自动就可以的事，那样就变化了，不是感情，不是恋爱而是另一种，所以一切要顺其自然，我们都是女孩，相信自已，他也许上目前我们最有感觉的人，最爱的人，但也只能是过去，总会有人来替代于他，会比他更让我们心动，你和他最后的结局会是分开，我不知道你是否相信，你可想一下，你现在的心里，我们是女孩要在意自已的感受，不能将就，特别是感情．遇事不要犹豫不决，要果断．断开．要有主见学会选择,现实的距离并不可怕.心灵的距离才是最可怕的,分了吧,相信会有比他更的好的人,那样就是你和他在一起将来你也不会开心的.')\n",
      "0.3233544300963081\n",
      "('问一首歌?有一句歌词是我,只想对你说????旋律很优美的 ', '是不是 陶哲的《就是爱你》？')\n",
      "---------\n",
      "0.8831282039194522\n",
      "('msn在教学工作中的作用 ', '可以传递信息啊   记得给好评哦 就差您这一个好评了哦 我在做任务 点左下角的好评  万分感谢')\n",
      "0.3187174479650592\n",
      "('家族技能升级任务中的护宝剑魔在哪里啊??? ', '护宝剑魔 370, 315 5线 \\r\\n护宝灵猴 -441, 420 9线 \\r\\n无敌灵猴 332，-232 6线 \\r\\n无敌剑魔 108, 400 7线 \\r\\n\\r\\n刷新时间 30分钟 ')\n",
      "0.22080317023181234\n",
      "('异地恋真得就那摸难吗???我该怎么来处理我这段异地的恋情??大家? ', '曾经的不代表现在的,你的这种感觉我也曾经历过,我很了解你现在的心情,百般的无助,我只想这样给你说,一切顺其自然,人都会随着时间,环境在变化,曾经的了解信任,不代表现在的一切,爱有几分,思念就有几分,而当你的爱与思念共同出现时,心就是觉得越独单越想信念过去,越想就会越觉得失洛，猜异，越能感觉到一个词：＂娈化＂，感情是一种双方共同的主动，不是一个人自动就可以的事，那样就变化了，不是感情，不是恋爱而是另一种，所以一切要顺其自然，我们都是女孩，相信自已，他也许上目前我们最有感觉的人，最爱的人，但也只能是过去，总会有人来替代于他，会比他更让我们心动，你和他最后的结局会是分开，我不知道你是否相信，你可想一下，你现在的心里，我们是女孩要在意自已的感受，不能将就，特别是感情．遇事不要犹豫不决，要果断．断开．要有主见学会选择,现实的距离并不可怕.心灵的距离才是最可怕的,分了吧,相信会有比他更的好的人,那样就是你和他在一起将来你也不会开心的.')\n",
      "---------\n",
      "1.0\n",
      "('万能的微博，深圳有维修饰品的地方么？断了 ', '周大福、金饰品都可以\\n深圳龙岗区龙东鸿基路6号义乌小商品批发城一楼B1207\\n观前街邵磨针巷88号伊人坊 龙岗中心城吉祥中路卖珠宝的地方都可以维修的。珠宝世界\\n深圳市华强北商业街2006号华联发大厦1-2层\\n电话： 0755-83999595/83998283\\n营业时间：10:00—22:00东门步行街！我就修过。如果我的回答对你有帮助，请点击“有用”，谢谢！可以去水贝，或者嘉汇国际黄金珠宝钟表城里维修。')\n",
      "0.33031897753965683\n",
      "('听说有打美白针的，打了之后就变白效果挺好的，是真的吗？深圳哪里有? ', '是真的~\\r\\n大S就是说用美白针最管用，价格应该挺贵的，您可以去当地大的美容院问问')\n",
      "0.31375853456305725\n",
      "('我的小狗生了尿结石，在无法送到有条件的医院治疗的情况下，有什么好? ', '  不要给他吃伟嘉狗粮，皇家的不错。如吃自己做的饭，一定别给他吃咸了。盐摄取的多了，也容易得尿结石。\\r\\n  可一给它吃人吃的排石的药，比如排石饮液，剂量就吃成人的1/4。还要配合笑炎药，但注意，消炎药不能多吃，对肾不太好，还要注意多给它喝水，他不喝，就用针管喂它喝，尤其是患病期间。\\r\\n  等好了，也要让它多喝一些水，可以往水里放一点葡萄糖或是奶粉，它就会爱喝了。\\r\\n   祝你的狗狗早日恢复健康。')\n",
      "TFIDF系数相似度运行时间： 8.60699995358785\n"
     ]
    }
   ],
   "source": [
    "from time import *\n",
    "import json\n",
    "def response(file_path,userinput):\n",
    "    f = open(file_path,'r', encoding='utf-8')\n",
    "    sims =  []\n",
    "    sims_dicts = {}\n",
    "    for line in f.readlines()[:200000]:\n",
    "        line = json.loads(line)\n",
    "        question = line['title']\n",
    "        answer = line['answer']\n",
    "        sim = tfidf_similarity(question, userinput)\n",
    "      #  print(sim)\n",
    "        sims.append(sim)\n",
    "        sims_dicts[sim] = (question,answer)\n",
    "    sims.sort(reverse=True)\n",
    "    top_n = 3\n",
    "    for i in range(top_n):\n",
    "        print (sims[i])\n",
    "        print(sims_dicts[sims[i]])\n",
    "begin_time = time()       \n",
    "userinput1 = '松本面板可以配什么品牌的超五类模块??'\n",
    "userinput2 = 'msn在教学工作中的作用 ?'\n",
    "userinput3 = '万能的微博，深圳有维修饰品的地方么？断了 '\n",
    "file_path = 'E:/litao/Chatbots/data/baike_qa/baike_qa_train.json'\n",
    "print('---------') \n",
    "response(file_path,userinput1)\n",
    "print('---------') \n",
    "response(file_path,userinput2)\n",
    "print('---------') \n",
    "response(file_path,userinput3)\n",
    "print('---------') \n",
    "end_time = time()\n",
    "run_time = (end_time-begin_time)/3\n",
    "print ('TFIDF系数相似度运行时间：',run_time) "
   ]
  }
 ],
 "metadata": {
  "kernelspec": {
   "display_name": "Python 3",
   "language": "python",
   "name": "python3"
  },
  "language_info": {
   "codemirror_mode": {
    "name": "ipython",
    "version": 3
   },
   "file_extension": ".py",
   "mimetype": "text/x-python",
   "name": "python",
   "nbconvert_exporter": "python",
   "pygments_lexer": "ipython3",
   "version": "3.6.4"
  }
 },
 "nbformat": 4,
 "nbformat_minor": 2
}
