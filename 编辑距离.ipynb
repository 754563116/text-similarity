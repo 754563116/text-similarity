{
 "cells": [
  {
   "cell_type": "code",
   "execution_count": 2,
   "metadata": {},
   "outputs": [
    {
     "name": "stdout",
     "output_type": "stream",
     "text": [
      "---------\n",
      "1\n",
      "('松本面板可以配什么品牌的超五类模块?? ', 'AMP的试试吧，还有普天的。')\n",
      "13\n",
      "('什么品牌的音响最好? ', '这个问题有点类似于子问的“世界上谁最好”一样，是绝对化的问题，难以回答的。\\r\\r大多数品牌都有自己的定位，做那一类产品，作高端、低端，还是高中低都做。对于音响产品来说，有的做专业，有的做民用，有的做系统，有的做部件甚至单元。因此笼统地讲就不行了。\\r\\r在音响发展的道路上，不同的品牌形成了自己独有的特色，以针对不同的消费群体，不同的消费群体也有不同的价值取向，难以一致地达成完全一样的共识。\\r\\r比如日本TEAC，曾经是全球专业和民用盘式录音机的第一品牌，后来盘式机消亡了，它改做高端和中端的民用CD机，没有占到第一的位置，它又以CASTAM的牌子做广播CD机，现在是广播CD机的第一品牌。\\r\\r同样在录音机领域，盘式模拟广播机的第一品牌长期是瑞士的STUDER占有，到了盒带机的时代，台式盒带机的第一品牌长期是日本的中道，而新闻采访背包式盒带机的第一品牌则是SONY。这里面很复杂，没有谁是通吃天下的老大。\\r\\r在民用领域，三洋便携式收录机曾是全球第一品牌，创造了著名的“三洋音色”。后来日本先锋成了家用立式组合音箱的第一品牌，现在JVC又成了家用小型桌面组合音响的第一品牌。风水轮流转，各领风骚几年。\\r\\r即便是第一品牌，不同的人也有不同的观点，在三洋便携收录机时代，也有不少人喜欢音质很税利的夏普，它和三洋音色正好是两极。也有人买国产的，因为便宜。\\r\\r因此，在音响领域，不同的品牌有自己擅长的领域，还没有一个是真正的龙头老大。而对消费者而言，应该是“只有合适自己的，没有世上最好的”。')\n",
      "14\n",
      "('什么品牌的瓷砖好 ', '水中花9:你好！\\r\\n      根据装修专家馨承泽陵大师的介绍，这要看你选什么风格的砖，或是什么价位的 。\\r\\n在800*800的抛光砖中：冠军、诺贝尔、马可波罗、蒙娜丽莎、高登贵格、曼联、罗马、东鹏、皮尔卡丹等都是上榜品牌，都有80元——150元的砖，墙砖得见为通常在70-130之间，但每个牌子在每个时间段都有打折的活动，价格最低能到40多 \\r\\n其中东鹏、冠军的砖比较好买到，其他的砖种类比较少.. \\r\\n蜜蜂、蜘蛛、亚细亚、都是砖中的极品，但他们大多是以防古砖见长的价位较高，一般在150-400之间，墙砖的价位在90-380之间.. \\r\\n')\n",
      "---------\n",
      "1\n",
      "('msn在教学工作中的作用 ', '可以传递信息啊   记得给好评哦 就差您这一个好评了哦 我在做任务 点左下角的好评  万分感谢')\n",
      "8\n",
      "('叶脉在叶片中的作用 ', '叶脉在叶片中的作用：叶脉的主要功能是起输导和支持作用。')\n",
      "9\n",
      "('家校合作在家庭教育中的作用 ', '学校教育重打基础，强凋循序渐进，家庭教育则常常重理轻文，急于求成，希望立竿见影；学校一般全面安排教育内容，教育内容也相对稳定；家庭教育的内容则不稳定，往往受家长的兴趣爱好的影响，受社会时尚的影响。家校合作可以使双方的教育内容在一定程度上互相弥补。学校教育在安排全面发展的教育内容的同时，可以通过家长了解学生的兴趣、爱好特长，并注意培养，给予学生发展的空间，发挥学生的特长。')\n",
      "---------\n",
      "0\n",
      "('万能的微博，深圳有维修饰品的地方么？断了 ', '周大福、金饰品都可以\\n深圳龙岗区龙东鸿基路6号义乌小商品批发城一楼B1207\\n观前街邵磨针巷88号伊人坊 龙岗中心城吉祥中路卖珠宝的地方都可以维修的。珠宝世界\\n深圳市华强北商业街2006号华联发大厦1-2层\\n电话： 0755-83999595/83998283\\n营业时间：10:00—22:00东门步行街！我就修过。如果我的回答对你有帮助，请点击“有用”，谢谢！可以去水贝，或者嘉汇国际黄金珠宝钟表城里维修。')\n",
      "10\n",
      "('万能的微博，北滘哪里有维修照相机的地方？ ', '去大良环城路有一间，北滘很少的~\\n如果回答对你有帮助，请点有用，谢谢。')\n",
      "14\n",
      "('万能的微博，请告诉我这个能不能治？🙏🙏🙏 ', '估计没得治了，如果你不想换镜片，就只能找找有没有一模一样的眼镜架，把镜片换上。')\n",
      "---------\n",
      "编辑距离相似度运行时间： 75.29733331998189\n"
     ]
    }
   ],
   "source": [
    "from time import *\n",
    "\n",
    "import distance\n",
    "import  json\n",
    "\n",
    "def edit_distance(s1, s2):\n",
    "    return distance.levenshtein(s1, s2)\n",
    "\n",
    "def similarity(file_path,userinput):\n",
    "    f = open(file_path,'r', encoding='utf-8')\n",
    "    sims =  []\n",
    "    sims_dicts = {}\n",
    "    for line in f.readlines()[:200000]:\n",
    "        line = json.loads(line)\n",
    "        question = line['title']\n",
    "        answer = line['answer']\n",
    "        sim = edit_distance(question,userinput)\n",
    "        sims.append(sim)\n",
    "        sims_dicts[sim] = (question,answer)\n",
    "    sims.sort()\n",
    "    top_n = 3\n",
    "    for i in range(top_n):\n",
    "        print (sims[i])\n",
    "        print(sims_dicts[sims[i]])\n",
    "\n",
    "file_path = 'E:/litao/Chatbots/data/baike_qa/baike_qa_train.json'\n",
    "begin_time = time()\n",
    "userinput1 = '松本面板可以配什么品牌的超五类模块??'\n",
    "userinput2 = 'msn在教学工作中的作用 ?'\n",
    "userinput3 = '万能的微博，深圳有维修饰品的地方么？断了 '\n",
    "print('---------') \n",
    "similarity(file_path,userinput1) \n",
    "print('---------') \n",
    "similarity(file_path,userinput2) \n",
    "print('---------') \n",
    "similarity(file_path,userinput3) \n",
    "print('---------') \n",
    "end_time = time()\n",
    "run_time = (end_time-begin_time)/3\n",
    "print ('编辑距离相似度运行时间：',run_time) \n",
    "#sims,question_answer = \n",
    "#print(\"similarity:\",sims,\"question_answer:\",question_answer)\n"
   ]
  }
 ],
 "metadata": {
  "kernelspec": {
   "display_name": "Python 3",
   "language": "python",
   "name": "python3"
  },
  "language_info": {
   "codemirror_mode": {
    "name": "ipython",
    "version": 3
   },
   "file_extension": ".py",
   "mimetype": "text/x-python",
   "name": "python",
   "nbconvert_exporter": "python",
   "pygments_lexer": "ipython3",
   "version": "3.6.4"
  }
 },
 "nbformat": 4,
 "nbformat_minor": 2
}
