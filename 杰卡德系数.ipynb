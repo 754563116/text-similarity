{
 "cells": [
  {
   "cell_type": "code",
   "execution_count": 3,
   "metadata": {},
   "outputs": [
    {
     "name": "stdout",
     "output_type": "stream",
     "text": [
      "---------\n",
      "1.0\n",
      "('松本面板可以配什么品牌的超五类模块?? ', 'AMP的试试吧，还有普天的。')\n",
      "0.2647058823529412\n",
      "('谁知道多少级可以进什么副本吗?里面是多少级的怪? ', '貌似19级就有任务要下副本了！！\\r\\n\\r\\n但是好象要级高的带，我也不太清楚，让高手来回答吧！！\\r\\n\\r\\n')\n",
      "0.2608695652173913\n",
      "('什么品牌的音响最好? ', '这个问题有点类似于子问的“世界上谁最好”一样，是绝对化的问题，难以回答的。\\r\\r大多数品牌都有自己的定位，做那一类产品，作高端、低端，还是高中低都做。对于音响产品来说，有的做专业，有的做民用，有的做系统，有的做部件甚至单元。因此笼统地讲就不行了。\\r\\r在音响发展的道路上，不同的品牌形成了自己独有的特色，以针对不同的消费群体，不同的消费群体也有不同的价值取向，难以一致地达成完全一样的共识。\\r\\r比如日本TEAC，曾经是全球专业和民用盘式录音机的第一品牌，后来盘式机消亡了，它改做高端和中端的民用CD机，没有占到第一的位置，它又以CASTAM的牌子做广播CD机，现在是广播CD机的第一品牌。\\r\\r同样在录音机领域，盘式模拟广播机的第一品牌长期是瑞士的STUDER占有，到了盒带机的时代，台式盒带机的第一品牌长期是日本的中道，而新闻采访背包式盒带机的第一品牌则是SONY。这里面很复杂，没有谁是通吃天下的老大。\\r\\r在民用领域，三洋便携式收录机曾是全球第一品牌，创造了著名的“三洋音色”。后来日本先锋成了家用立式组合音箱的第一品牌，现在JVC又成了家用小型桌面组合音响的第一品牌。风水轮流转，各领风骚几年。\\r\\r即便是第一品牌，不同的人也有不同的观点，在三洋便携收录机时代，也有不少人喜欢音质很税利的夏普，它和三洋音色正好是两极。也有人买国产的，因为便宜。\\r\\r因此，在音响领域，不同的品牌有自己擅长的领域，还没有一个是真正的龙头老大。而对消费者而言，应该是“只有合适自己的，没有世上最好的”。')\n",
      "---------\n",
      "0.9230769230769231\n",
      "('msn在教学工作中的作用 ', '可以传递信息啊   记得给好评哦 就差您这一个好评了哦 我在做任务 点左下角的好评  万分感谢')\n",
      "0.3684210526315789\n",
      "('家校合作在家庭教育中的作用 ', '学校教育重打基础，强凋循序渐进，家庭教育则常常重理轻文，急于求成，希望立竿见影；学校一般全面安排教育内容，教育内容也相对稳定；家庭教育的内容则不稳定，往往受家长的兴趣爱好的影响，受社会时尚的影响。家校合作可以使双方的教育内容在一定程度上互相弥补。学校教育在安排全面发展的教育内容的同时，可以通过家长了解学生的兴趣、爱好特长，并注意培养，给予学生发展的空间，发挥学生的特长。')\n",
      "0.3\n",
      "('普通话证在工作中用什么作用 ', '    我做过城市语言验收工作，才知道这个证件有很多作用，但在现实中你不深究就看不出来，比如播音员、教师、公务员、导游在招工的时候都需要这个证件，目前连最基本的营业员（一般在国企）都需要这个证件才能够上岗。如果你没有那就比别人少了一点东西，因为在正式的场合是不允许说自己家乡话的。其实这是一个最好拿的证件，建议你不要轻视。')\n",
      "---------\n",
      "1.0\n",
      "('万能的微博，深圳有维修饰品的地方么？断了 ', '周大福、金饰品都可以\\n深圳龙岗区龙东鸿基路6号义乌小商品批发城一楼B1207\\n观前街邵磨针巷88号伊人坊 龙岗中心城吉祥中路卖珠宝的地方都可以维修的。珠宝世界\\n深圳市华强北商业街2006号华联发大厦1-2层\\n电话： 0755-83999595/83998283\\n营业时间：10:00—22:00东门步行街！我就修过。如果我的回答对你有帮助，请点击“有用”，谢谢！可以去水贝，或者嘉汇国际黄金珠宝钟表城里维修。')\n",
      "0.48148148148148145\n",
      "('万能的微博，北滘哪里有维修照相机的地方？ ', '去大良环城路有一间，北滘很少的~\\n如果回答对你有帮助，请点有用，谢谢。')\n",
      "0.4\n",
      "('深圳有什么出名的，好玩的地方？ ', '深圳没有夜市的！市政府规定所有的娱乐场所最晚关门时间是凌晨两点。所以泡夜的地方是没有的。\\r\\n玩的有：欢乐谷，世界之窗，锦绣中华，民俗村，大、小梅沙，南澳，溪涌，航母乐园，西丽湖，野生动物园。\\r\\n逛的有：华强北路，东门老街。\\r\\n吃的？到处都有！')\n",
      "---------\n",
      "杰卡德相似度运行时间： 155.22366666793823\n"
     ]
    }
   ],
   "source": [
    "from time import *\n",
    "import json\n",
    "\n",
    "from sklearn.feature_extraction.text import CountVectorizer\n",
    "import numpy as np\n",
    "\n",
    "def jaccard_similarity(s1, s2):\n",
    "    def add_space(s):\n",
    "        return ' '.join(list(s))\n",
    "    \n",
    "    # 将字中间加入空格\n",
    "    s1, s2 = add_space(s1), add_space(s2)\n",
    "    # 转化为TF矩阵\n",
    "    cv = CountVectorizer(tokenizer=lambda s: s.split())\n",
    "    corpus = [s1, s2]\n",
    "    vectors = cv.fit_transform(corpus).toarray()\n",
    "    # 求交集\n",
    "    numerator = np.sum(np.min(vectors, axis=0))\n",
    "    # 求并集\n",
    "    denominator = np.sum(np.max(vectors, axis=0))\n",
    "    # 计算杰卡德系数\n",
    "    return 1.0 * numerator / denominator\n",
    "\n",
    "def response(file_path,userinput):\n",
    "    f = open(file_path,'r', encoding='utf-8')\n",
    "    sims =  []\n",
    "    sims_dicts = {}\n",
    "    for line in f.readlines()[:200000]:\n",
    "        line = json.loads(line)\n",
    "        question = line['title']\n",
    "        answer = line['answer']\n",
    "        sim = jaccard_similarity(question, userinput)\n",
    "        sims.append(sim)\n",
    "        sims_dicts[sim] = (question,answer)\n",
    "    sims.sort(reverse=True)\n",
    "    top_n = 3\n",
    "    for i in range(top_n):\n",
    "        print (sims[i])\n",
    "        print(sims_dicts[sims[i]])\n",
    "begin_time = time()        \n",
    "userinput1 = '松本面板可以配什么品牌的超五类模块??'\n",
    "userinput2 = 'msn在教学工作中的作用 ?'\n",
    "userinput3 = '万能的微博，深圳有维修饰品的地方么？断了 '\n",
    "file_path = 'E:/litao/Chatbots/data/baike_qa/baike_qa_train.json'\n",
    "print('---------') \n",
    "response(file_path,userinput1)\n",
    "print('---------') \n",
    "response(file_path,userinput2)\n",
    "print('---------') \n",
    "response(file_path,userinput3)\n",
    "print('---------') \n",
    "end_time = time()\n",
    "run_time = (end_time-begin_time)/3\n",
    "print ('杰卡德相似度运行时间：',run_time) "
   ]
  }
 ],
 "metadata": {
  "kernelspec": {
   "display_name": "Python 3",
   "language": "python",
   "name": "python3"
  },
  "language_info": {
   "codemirror_mode": {
    "name": "ipython",
    "version": 3
   },
   "file_extension": ".py",
   "mimetype": "text/x-python",
   "name": "python",
   "nbconvert_exporter": "python",
   "pygments_lexer": "ipython3",
   "version": "3.6.4"
  }
 },
 "nbformat": 4,
 "nbformat_minor": 2
}
